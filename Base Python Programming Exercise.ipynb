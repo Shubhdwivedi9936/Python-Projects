{
 "cells": [
  {
   "cell_type": "markdown",
   "metadata": {},
   "source": [
    "## Python Basic Programming Exercises"
   ]
  },
  {
   "cell_type": "raw",
   "metadata": {},
   "source": [
    "Q1: What is the output of following expression\n",
    "    5 + 4 * 9 % (3 + 1) / 6 - 1"
   ]
  },
  {
   "cell_type": "code",
   "execution_count": null,
   "metadata": {},
   "outputs": [],
   "source": [
    "4.0"
   ]
  },
  {
   "cell_type": "markdown",
   "metadata": {},
   "source": [
    "#### Q2: Write a program to check if a Number is Odd or Even. Take number as a input from user at runtime."
   ]
  },
  {
   "cell_type": "code",
   "execution_count": 3,
   "metadata": {},
   "outputs": [
    {
     "name": "stdout",
     "output_type": "stream",
     "text": [
      "Entered Number is : 8\n",
      "Even Number\n"
     ]
    }
   ],
   "source": [
    "num = int(input(\"Entered Number is : \"))\n",
    "if num%2==0:\n",
    "    print(\"Even Number\")\n",
    "else:\n",
    "    print(\"Odd Number\")"
   ]
  },
  {
   "cell_type": "raw",
   "metadata": {},
   "source": [
    "Q3: Write a program to display the multiplication table by taking a number as input. \n",
    "    [Hint : Use print statement inside of a loop]"
   ]
  },
  {
   "cell_type": "code",
   "execution_count": 8,
   "metadata": {},
   "outputs": [
    {
     "name": "stdout",
     "output_type": "stream",
     "text": [
      "Entered Number is : 8\n",
      "8 * 1 = 8\n",
      "8 * 2 = 16\n",
      "8 * 3 = 24\n",
      "8 * 4 = 32\n",
      "8 * 5 = 40\n",
      "8 * 6 = 48\n",
      "8 * 7 = 56\n",
      "8 * 8 = 64\n",
      "8 * 9 = 72\n",
      "8 * 10 = 80\n"
     ]
    }
   ],
   "source": [
    "num = int(input(\"Entered Number is : \"))\n",
    "for i in range (1,11):\n",
    "    print(num,\"*\",i,\"=\",num*i)"
   ]
  },
  {
   "cell_type": "raw",
   "metadata": {},
   "source": [
    "Q4: Write a program which will find all numbers between 2000 and 3200 which are divisible by 7 \n",
    "    but are not a multiple of 5.\n",
    " \n",
    "Note: The numbers obtained should be printed in a comma-separated sequence on a single line."
   ]
  },
  {
   "cell_type": "markdown",
   "metadata": {},
   "source": [
    "l2 = [i for i in (2000,3200,1) if i%7==0 and i%5!=0]\n",
    "print(i)"
   ]
  },
  {
   "cell_type": "raw",
   "metadata": {},
   "source": [
    "Q5: Count the elements of each datatype inside the list and display in output\n",
    " l =   [2, 3, 'Py', '10', 1, 'SQL', 5.5, True, 3, 'John', None, 7]    "
   ]
  },
  {
   "cell_type": "code",
   "execution_count": null,
   "metadata": {},
   "outputs": [],
   "source": []
  },
  {
   "cell_type": "code",
   "execution_count": 3,
   "metadata": {},
   "outputs": [
    {
     "name": "stdout",
     "output_type": "stream",
     "text": [
      "int : 4 float : 1 bool : 1 string : 4 none : 1\n"
     ]
    }
   ],
   "source": [
    " l =   [2, 3, 'Py', '10', 1, 'SQL', 5.5, True, 3, 'John', None, 7] \n",
    "int_count = 0\n",
    "float_count = 0\n",
    "bool_count = 0\n",
    "string_count = 0\n",
    "none_count = 0\n",
    "\n",
    "for i in l:\n",
    "    if type(i) == int:\n",
    "        int_count = int_count+1\n",
    "    elif type(i) == float:\n",
    "        float_count = float_count+1\n",
    "    elif type(i) == bool:\n",
    "        bool_count = bool_count+1\n",
    "    elif type(i) ==  str:\n",
    "        string_count = string_count + 1\n",
    "    else :\n",
    "        none_count = none_count+1\n",
    "        print (\"int :\",int_count,\"float :\",float_count,\"bool :\",bool_count,\"string :\",string_count,\"none :\",none_count)\n",
    "        \n",
    "        \n",
    "        \n",
    "        \n",
    "        \n",
    "        "
   ]
  },
  {
   "cell_type": "raw",
   "metadata": {},
   "source": [
    "Q6: Add all values from the list with numeric datatypes \n",
    "    [2, 3, 'Py', '10', 1, 'SQL', 5.5, True, 3, 'John', None, 7] "
   ]
  },
  {
   "cell_type": "code",
   "execution_count": 6,
   "metadata": {},
   "outputs": [
    {
     "name": "stdout",
     "output_type": "stream",
     "text": [
      "21.5\n"
     ]
    }
   ],
   "source": [
    "l1 =   [2, 3, 'Py', '10', 1, 'SQL', 5.5, True, 3, 'John', None, 7] \n",
    "res = 0\n",
    "for i in  l1 :\n",
    "    if type(i)in(int,float) :\n",
    "        \n",
    "        res = res + i\n",
    "print(res)"
   ]
  },
  {
   "cell_type": "raw",
   "metadata": {},
   "source": [
    "Q7: Concat all str datatypes with hyphen as a delimiter\n",
    "    [2, 3, 'Py', '10', 1, 'SQL', 5.5, True, 3, 'John', None, 7] "
   ]
  },
  {
   "cell_type": "code",
   "execution_count": 12,
   "metadata": {},
   "outputs": [
    {
     "name": "stdout",
     "output_type": "stream",
     "text": [
      "['Py', '10', 'SQL', 'John']\n",
      "Py-10-SQL-John\n"
     ]
    }
   ],
   "source": [
    "l2 =  [2, 3, 'Py', '10', 1, 'SQL', 5.5, True, 3, 'John', None, 7] \n",
    "l4 = []\n",
    "for i in l2 :\n",
    "    if type(i) == str :\n",
    "        l4.append(i)\n",
    "        \n",
    "print(l4)\n",
    "print('-'.join(l4))"
   ]
  },
  {
   "cell_type": "raw",
   "metadata": {},
   "source": [
    "Q8: Write a UDF that takes list as input and returns sum of all numbers \n",
    "    (exclude bool) and count of all str \n",
    "    [2, 3, 'Py', '10', 1, 'SQL', 5.5, True, 3, 'John', None, 7] \n",
    "    \n",
    "Hint:\n",
    "-----\n",
    "def my_func:\n",
    "    # your code\n",
    "        \n",
    "my_func(l1)\n",
    "# output --> {'Sum': xxx, 'Count_of_Strs': xxx}"
   ]
  },
  {
   "cell_type": "code",
   "execution_count": 5,
   "metadata": {},
   "outputs": [
    {
     "data": {
      "text/plain": [
       "{'sum of all numbers (exclude bool)': 21.5, 'count of all str': 4}"
      ]
     },
     "execution_count": 5,
     "metadata": {},
     "output_type": "execute_result"
    }
   ],
   "source": [
    "l3 = [2, 3, 'Py', '10', 1, 'SQL', 5.5, True, 3, 'John', None, 7]\n",
    "\n",
    "def add(l):\n",
    "    dict1 = {}\n",
    "     \n",
    "    dict1['sum of all numbers (exclude bool)'] = sum([float(i) for i in l if type(i)== int or type(i)== float])\n",
    "    dict1['count of all str'] = len([str(i) for i in l if type(i)== str])\n",
    "    return dict1\n",
    "\n",
    "add(l3)       \n",
    "            \n",
    "                \n",
    "                "
   ]
  },
  {
   "cell_type": "raw",
   "metadata": {},
   "source": [
    "Q9: Get only odd numbers from the following list and store the numbers in new list\n",
    "    li = [5, 7, 22, 97, 54, 62, 77, 23, 73, 61]\n",
    "\n",
    "    i. Use loops to get the answer\n",
    "   ii. Use list comprehensions\n",
    "  iii. Use lambda function with filter"
   ]
  },
  {
   "cell_type": "code",
   "execution_count": 6,
   "metadata": {},
   "outputs": [
    {
     "name": "stdout",
     "output_type": "stream",
     "text": [
      "11 23 45 23 11 "
     ]
    }
   ],
   "source": [
    "list1 = [11,23,45,23,64,22,11,24]\n",
    "\n",
    "for num in list1:\n",
    "   \n",
    "   if num % 2 != 0:\n",
    "      print(num, end = \" \")"
   ]
  },
  {
   "cell_type": "code",
   "execution_count": 7,
   "metadata": {},
   "outputs": [
    {
     "name": "stdout",
     "output_type": "stream",
     "text": [
      "Odd numbers in the list:  [11, 23, 45, 23, 11]\n"
     ]
    }
   ],
   "source": [
    "list1 = [11,23,45,23,64,22,11,24]\n",
    "\n",
    "odd_no = list(filter(lambda x: (x % 2 != 0), list1))\n",
    "print(\"Odd numbers in the list: \", odd_no)"
   ]
  },
  {
   "cell_type": "code",
   "execution_count": 8,
   "metadata": {},
   "outputs": [
    {
     "name": "stdout",
     "output_type": "stream",
     "text": [
      "Odd numbers :  [11, 23, 45, 23, 11]\n"
     ]
    }
   ],
   "source": [
    "list1 = [11,23,45,23,64,22,11,24]\n",
    "\n",
    "odd_nos = [num for num in list1 if num % 2 != 0]\n",
    "print(\"Odd numbers : \", odd_nos)"
   ]
  },
  {
   "cell_type": "raw",
   "metadata": {},
   "source": [
    "Q10: Write a UDF to return the descriptives [sum, count, min, mean, max] for a list of n number of input \n",
    "    numbers."
   ]
  },
  {
   "cell_type": "code",
   "execution_count": 9,
   "metadata": {},
   "outputs": [
    {
     "name": "stdout",
     "output_type": "stream",
     "text": [
      "sum: 93\n",
      "count: 6\n",
      "min: 1\n",
      "max: 40\n",
      "mean: 15.5\n"
     ]
    }
   ],
   "source": [
    "l = [1,5, 10, 30, 40, 7]\n",
    "\n",
    "l2 = [i for i in l if type(i) in (int,float)]\n",
    "\n",
    "print(\"sum:\", sum(l2))\n",
    "print(\"count:\",len(l2))\n",
    "print(\"min:\", min(l2))\n",
    "print(\"max:\", max(l2))\n",
    "print(\"mean:\", sum(l2)/len(l2) )"
   ]
  },
  {
   "cell_type": "raw",
   "metadata": {},
   "source": [
    "Q11: Write an udf to calculate the area of different shapes\n",
    "\n",
    "Take shape and dimensions as arguments to udf as follows : \n",
    "\n",
    "1. square which has side\n",
    "2. rectangle which has length and width\n",
    "3. circle which has radius\n",
    "\n",
    "The shape should be a positional argument and it's dimensions are taken as kwargs\n",
    "\n",
    "Perform proper validation for the user inputs and then calculate area.\n",
    "\n",
    "E.g. if shape is square, ensure kwargs has \"side\" and if so, then you may return the area, else display appropriate error message like \"Please enter 'side' for a square\""
   ]
  },
  {
   "cell_type": "code",
   "execution_count": 1,
   "metadata": {},
   "outputs": [
    {
     "name": "stdout",
     "output_type": "stream",
     "text": [
      "Enter the name of shape whose area you want to find : square\n",
      "Enter square's side length : 3\n",
      "The area of square is 9.\n"
     ]
    }
   ],
   "source": [
    "shape_name = input('Enter the name of shape whose area you want to find : ')\n",
    "\n",
    "def calculate_area(name):\n",
    "    name = name.lower()\n",
    "    \n",
    "    if name == 'square':\n",
    "        s = int(input(\"Enter square's side length : \"))\n",
    "\n",
    "        # calculate area of square\n",
    "        sqt_area = s * s\n",
    "        print(f'The area of square is {sqt_area}.')\n",
    "        \n",
    "    elif name == 'rectangle':\n",
    "        l = int(input(\"Enter rectangle's length : \"))\n",
    "        w = int(input(\"Enter rectangle's width : \"))\n",
    "\n",
    "        # calculate area of rectangle\n",
    "        rect_area = l * w\n",
    "        print(f'The area of rectangle is {rect_area}.') \n",
    "        \n",
    "    elif name == 'circle':\n",
    "        r = int(input(\"Enter circle's radius length: \"))\n",
    "        pi = 3.14\n",
    "\n",
    "        # calculate area of circle\n",
    "        circ_area = pi * r * r\n",
    "        print(f'The area of triangle is {circ_area}. ')\n",
    "        \n",
    "        \n",
    "calculate_area(shape_name)"
   ]
  },
  {
   "cell_type": "raw",
   "metadata": {},
   "source": [
    "Q12: Write a UDF to reconcile the values within two lists.\n",
    "    l1 = ['January', 'February', 'March', 'May', 'June', 'September', 'December']\n",
    "    l2 = ['January', 'February', 'April', 'June', 'October', 'December']\n",
    "\n",
    "Hint:\n",
    "-----\n",
    "def func(l1, l2):\n",
    "    your code here...\n",
    "    \n",
    "Output:\n",
    "{'Matched': ['January', 'February', 'June', 'December'],\n",
    "    'Only in l1': ['March', 'May', 'September'],\n",
    "        'Only in l2': ['April', 'October']}"
   ]
  },
  {
   "cell_type": "code",
   "execution_count": 10,
   "metadata": {},
   "outputs": [
    {
     "data": {
      "text/plain": [
       "{'Matched': ['December', 'January', 'February', 'June'],\n",
       " 'only in l1': ['May', 'March', 'September'],\n",
       " 'only in l2': ['April', 'October']}"
      ]
     },
     "execution_count": 10,
     "metadata": {},
     "output_type": "execute_result"
    }
   ],
   "source": [
    "l1 = ['January', 'February', 'March', 'May', 'June', 'September', 'December']\n",
    "l2 = ['January', 'February', 'April', 'June', 'October', 'December']\n",
    "\n",
    "def my_func(l1,l2):\n",
    "    x=set(l1)\n",
    "    y=set(l2)\n",
    "    result = {}\n",
    "    result['Matched'] = list(x.intersection(y))\n",
    "    result['only in l1'] =list( x-y)\n",
    "    result['only in l2'] = list(y-x)\n",
    "    return result\n",
    "my_func(l1,l2)"
   ]
  },
  {
   "cell_type": "raw",
   "metadata": {
    "collapsed": true
   },
   "source": [
    "Q13: write a UDF to check if a number is prime or not."
   ]
  },
  {
   "cell_type": "code",
   "execution_count": 2,
   "metadata": {},
   "outputs": [
    {
     "name": "stdout",
     "output_type": "stream",
     "text": [
      "prime\n"
     ]
    }
   ],
   "source": [
    "def fact(x):\n",
    "    for i in range(2,x,1):\n",
    "        if x%i==0:\n",
    "            print(\"not prime\")\n",
    "            break\n",
    "        else:\n",
    "            print(\"prime\")\n",
    "fact(3)            "
   ]
  },
  {
   "cell_type": "raw",
   "metadata": {
    "collapsed": true
   },
   "source": [
    "Q14. Write a program which can compute the factorial of a given numbers. \n",
    "#   The results should be printed in a comma-separated sequence on a single line. \n",
    "# input() function can be used for getting user(console) input\n",
    "\n",
    "\n",
    "#Suppose the input is supplied to the program:  8  \n",
    "#Then, the output should be:  40320 \n",
    "#Hints: In case of input data being supplied to the question, it should be assumed to be a console input. \n"
   ]
  },
  {
   "cell_type": "code",
   "execution_count": 5,
   "metadata": {},
   "outputs": [
    {
     "name": "stdout",
     "output_type": "stream",
     "text": [
      "entered no : 8\n",
      "8 = 40320\n"
     ]
    }
   ],
   "source": [
    "num = int(input(\"entered no : \"))\n",
    "fact = 1\n",
    "for i in range(num, 1, -1):\n",
    "          fact = fact*i\n",
    "          \n",
    "print(num,\"=\",fact)          "
   ]
  },
  {
   "cell_type": "raw",
   "metadata": {
    "collapsed": true
   },
   "source": [
    "Q15. With a given integral number n, write a program to generate a dictionary that contains (i, i*i) such that is an integral number between 1 and n (both included). and then the program should print the dictionary.\n",
    "\n",
    "#Suppose the following input is supplied to the program: 8\n",
    "#Then, the output should be: {1: 1, 2: 4, 3: 9, 4: 16, 5: 25, 6: 36, 7: 49, 8: 64}\n",
    "#Hints: In case of input data being supplied to the question, it should be assumed to be a console input. Consider using dict()\n",
    "\n"
   ]
  },
  {
   "cell_type": "code",
   "execution_count": 7,
   "metadata": {},
   "outputs": [
    {
     "name": "stdout",
     "output_type": "stream",
     "text": [
      "entered no : 4\n",
      "{1: 1, 2: 4, 3: 9, 4: 16}\n"
     ]
    }
   ],
   "source": [
    "num2 = int(input(\"entered no : \"))\n",
    "\n",
    "d = {}\n",
    "for i in range(1, num2+1,1):\n",
    "        d[i] = i*i\n",
    "print(d)    \n",
    "    \n"
   ]
  },
  {
   "cell_type": "raw",
   "metadata": {
    "collapsed": true
   },
   "source": [
    "Q16. Write a program which accepts a sequence of comma-separated numbers from console and generate a list and a tuple which contains every number.\n",
    "#Suppose the following input is supplied to the program: 34,67,55,33,12,98\n",
    "    #Then, the output should be: ['34', '67', '55', '33', '12', '98'] ('34', '67', '55', '33', '12', '98')\n",
    "\n",
    "#Hints: In case of input data being supplied to the question, it should be assumed to be a console input. you may use tuple() method to convert list to tuple\n"
   ]
  },
  {
   "cell_type": "code",
   "execution_count": 12,
   "metadata": {},
   "outputs": [
    {
     "name": "stdout",
     "output_type": "stream",
     "text": [
      "entered no : 1,2,3,4,5,6,7\n",
      "list ['1', '2', '3', '4', '5', '6', '7']\n",
      "tuple ('1', '2', '3', '4', '5', '6', '7')\n"
     ]
    }
   ],
   "source": [
    "num3 = input(\"entered no : \")\n",
    "\n",
    "x=num3.split(',')\n",
    "print('list',x)\n",
    "\n",
    "t=tuple(x)\n",
    "print('tuple',t)"
   ]
  },
  {
   "cell_type": "raw",
   "metadata": {
    "collapsed": true
   },
   "source": [
    "Q17. Write a program that accepts a comma separated sequence of words as input and \n",
    "# prints the words in a comma-separated sequence after sorting them alphabetically.\n",
    "\n",
    "# Suppose the following input is supplied to the program: without,hello,bag,world\n",
    "# Then, the output should be: bag,hello,without,world\n",
    "\n",
    "#Hints: In case of input data being supplied to the question, it should be assumed to be a console input.\n"
   ]
  },
  {
   "cell_type": "code",
   "execution_count": 14,
   "metadata": {},
   "outputs": [
    {
     "name": "stdout",
     "output_type": "stream",
     "text": [
      "entered no : hello,bag,rat\n",
      "org_list :  ['hello', 'bag', 'rat']\n",
      "new ['bag', 'hello', 'rat']\n"
     ]
    }
   ],
   "source": [
    "x = input(\"entered word : \")\n",
    "y_list=x.split(',')\n",
    "print(\"org_list : \" ,y_list)\n",
    "\n",
    "y_list.sort()\n",
    "print(\"new\",y_list)"
   ]
  },
  {
   "cell_type": "raw",
   "metadata": {
    "collapsed": true
   },
   "source": [
    "Q18. Write a program that accepts a sequence of whitespace separated words \n",
    "# as input and prints the words after removing all duplicate words and sorting them alphanumerically.\n",
    "# Suppose the following input is supplied to the program: hello world and practice makes perfect and hello world again\n",
    "# Then, the output should be: again and hello makes perfect practice world\n",
    "\n",
    "#Hints: In case of input data being supplied to the question, it should be assumed to be a console input.\n",
    "#We use set container to remove duplicated data automatically and then use sorted() to sort the data.\n"
   ]
  },
  {
   "cell_type": "code",
   "execution_count": 12,
   "metadata": {},
   "outputs": [
    {
     "name": "stdout",
     "output_type": "stream",
     "text": [
      "Enter a sequence of whitespace separated words : rew er ty\n",
      "er rew ty\n"
     ]
    }
   ],
   "source": [
    "words = input('Enter a sequence of whitespace separated words : ')\n",
    "words1 = words.split(' ')\n",
    "words1 = set(words1)\n",
    "sorted_words = sorted(words1)\n",
    "print((' ').join(sorted_words))"
   ]
  },
  {
   "cell_type": "raw",
   "metadata": {
    "collapsed": true
   },
   "source": [
    "Q19. Write a program that accepts a sentence and calculate the number of upper case \n",
    "# letters and lower case letters.\n",
    "#Suppose the following input is supplied to the program: Hello world!\n",
    "#Then, the output should be: UPPER CASE 1 LOWER CASE 9\n",
    "\n",
    "#Hints: In case of input data being supplied to the question, it should be assumed to be a console input.\n"
   ]
  },
  {
   "cell_type": "code",
   "execution_count": 11,
   "metadata": {},
   "outputs": [
    {
     "name": "stdout",
     "output_type": "stream",
     "text": [
      "Enter a sentence : wer\n",
      "UPPER CASE  0 LOWER CASE  3\n"
     ]
    }
   ],
   "source": [
    "sentense = input('Enter a sentence : ')\n",
    "sentense = list(sentense)\n",
    "\n",
    "upper,lower = 0 , 0\n",
    "\n",
    "for i in sentense:\n",
    "    if i.isupper():\n",
    "        upper = upper + 1\n",
    "        \n",
    "    if i.islower():\n",
    "        lower = lower + 1\n",
    "    else:\n",
    "        pass\n",
    "        \n",
    "print('UPPER CASE ',upper,'LOWER CASE ',lower)"
   ]
  },
  {
   "cell_type": "raw",
   "metadata": {
    "collapsed": true
   },
   "source": [
    "Q20. Write a program that takes a string and returns reversed string. i.e. if input is \"abcd123\" output should be \"321dcba\""
   ]
  },
  {
   "cell_type": "code",
   "execution_count": 15,
   "metadata": {},
   "outputs": [
    {
     "name": "stdout",
     "output_type": "stream",
     "text": [
      "name : shubh\n",
      "reversed_name :  hbuhs\n"
     ]
    }
   ],
   "source": [
    "text = input(\"name : \")\n",
    "new_text = text[: : -1]\n",
    "print(\"reversed_name : \",new_text)"
   ]
  }
 ],
 "metadata": {
  "kernelspec": {
   "display_name": "Python 3 (ipykernel)",
   "language": "python",
   "name": "python3"
  },
  "language_info": {
   "codemirror_mode": {
    "name": "ipython",
    "version": 3
   },
   "file_extension": ".py",
   "mimetype": "text/x-python",
   "name": "python",
   "nbconvert_exporter": "python",
   "pygments_lexer": "ipython3",
   "version": "3.9.13"
  },
  "varInspector": {
   "cols": {
    "lenName": 16,
    "lenType": 16,
    "lenVar": 40
   },
   "kernels_config": {
    "python": {
     "delete_cmd_postfix": "",
     "delete_cmd_prefix": "del ",
     "library": "var_list.py",
     "varRefreshCmd": "print(var_dic_list())"
    },
    "r": {
     "delete_cmd_postfix": ") ",
     "delete_cmd_prefix": "rm(",
     "library": "var_list.r",
     "varRefreshCmd": "cat(var_dic_list()) "
    }
   },
   "types_to_exclude": [
    "module",
    "function",
    "builtin_function_or_method",
    "instance",
    "_Feature"
   ],
   "window_display": false
  }
 },
 "nbformat": 4,
 "nbformat_minor": 2
}
